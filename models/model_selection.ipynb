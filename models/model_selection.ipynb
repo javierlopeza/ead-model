{
 "cells": [
  {
   "cell_type": "markdown",
   "metadata": {},
   "source": [
    "# Model Selection\n",
    "\n",
    "In this notebook we will test different models to find the one that gives us the best results."
   ]
  },
  {
   "cell_type": "code",
   "execution_count": 1,
   "metadata": {
    "collapsed": true
   },
   "outputs": [],
   "source": [
    "import numpy as np\n",
    "import pandas as pd\n",
    "\n",
    "import warnings\n",
    "warnings.filterwarnings('ignore')"
   ]
  },
  {
   "cell_type": "code",
   "execution_count": 4,
   "metadata": {
    "collapsed": true
   },
   "outputs": [],
   "source": [
    "from sklearn.model_selection import train_test_split\n",
    "from sklearn.metrics import f1_score\n",
    "from sklearn.model_selection import StratifiedKFold\n",
    "\n",
    "def f1_scores(Z, y_test):\n",
    "    averages = ['macro', 'micro', 'weighted']\n",
    "    for avg in averages:\n",
    "        score = f1_score(Z, y_test, average=avg)\n",
    "        print(\"f1 score ({}): {}\".format(avg, score))\n",
    "\n",
    "def test_model(X, y, model_name, model):\n",
    "    print(\"MODEL: {}\".format(model_name))\n",
    "    X_train, X_test, y_train, y_test = train_test_split(X, y, test_size=0.2)\n",
    "    model.fit(X_train, y_train)\n",
    "    Z = model.predict(X_test)\n",
    "    f1_scores(Z, y_test)\n",
    "    \n",
    "def testModelKFold(X, y, model_name, model, k):\n",
    "    print(\"CROSS VALIDATION FOR: {}\".format(model_name))\n",
    "    skf = StratifiedKFold(n_splits=5)\n",
    "    skf.get_n_splits(X, y)\n",
    "    f1_scores = []\n",
    "    for train_index, test_index in skf.split(X, y):\n",
    "        X_train, X_test = X[train_index], X[test_index]\n",
    "        y_train, y_test = y[train_index], y[test_index]\n",
    "        model.fit(X_train, y_train)\n",
    "        Z = model.predict(X_test)\n",
    "        f1_scores.append(f1_score(Z, y_test))\n",
    "    print(\"f1 scores: {}\".format(f1_scores))\n",
    "    print(\"MEAN: {}\".format(np.mean(f1_scores)))"
   ]
  },
  {
   "cell_type": "code",
   "execution_count": 5,
   "metadata": {},
   "outputs": [
    {
     "name": "stdout",
     "output_type": "stream",
     "text": [
      "MODEL: Logistic Regression\n",
      "f1 score (macro): 0.7854557933487241\n",
      "f1 score (micro): 0.8034026465028355\n",
      "f1 score (weighted): 0.8029334477275646\n",
      "CROSS VALIDATION FOR: Logistic Regression\n",
      "f1 scores: [0.8554913294797688, 0.8082595870206489, 0.5481727574750831, 0.7988668555240793, 0.4453441295546559]\n",
      "MEAN: 0.6912269318108473\n",
      "\n",
      "MODEL: SVC\n",
      "f1 score (macro): 0.8605929020102974\n",
      "f1 score (micro): 0.8733459357277883\n",
      "f1 score (weighted): 0.8732662292670539\n",
      "CROSS VALIDATION FOR: SVC\n",
      "f1 scores: [0.8913043478260869, 0.8385269121813033, 0.7223382045929019, 0.8825214899713467, 0.5522388059701493]\n",
      "MEAN: 0.7773859521083576\n",
      "\n",
      "MODEL: Random Forest\n",
      "f1 score (macro): 0.880633364456894\n",
      "f1 score (micro): 0.8903591682419659\n",
      "f1 score (weighted): 0.8904879868351457\n",
      "CROSS VALIDATION FOR: Random Forest\n",
      "f1 scores: [0.972972972972973, 0.8604651162790697, 0.7056530214424951, 0.8603988603988604, 0.5358490566037736]\n",
      "MEAN: 0.7870678055394345\n",
      "\n",
      "MODEL: K-Nearest Neighbors\n",
      "f1 score (macro): 0.8245522600208471\n",
      "f1 score (micro): 0.8412098298676749\n",
      "f1 score (weighted): 0.8432537034685127\n",
      "CROSS VALIDATION FOR: K-Nearest Neighbors\n",
      "f1 scores: [0.8938547486033518, 0.8047337278106509, 0.6666666666666666, 0.82183908045977, 0.512280701754386]\n",
      "MEAN: 0.7398749850589651\n",
      "\n",
      "MODEL: GaussianNB\n",
      "f1 score (macro): 0.7696182864675902\n",
      "f1 score (micro): 0.7901701323251419\n",
      "f1 score (weighted): 0.7892596075086681\n",
      "CROSS VALIDATION FOR: GaussianNB\n",
      "f1 scores: [0.8969359331476322, 0.8238805970149253, 0.5551948051948052, 0.7554347826086956, 0.4745762711864407]\n",
      "MEAN: 0.7012044778304998\n",
      "\n",
      "MODEL: Perceptron\n",
      "f1 score (macro): 0.7769855380611104\n",
      "f1 score (micro): 0.782608695652174\n",
      "f1 score (weighted): 0.776115287481541\n",
      "CROSS VALIDATION FOR: Perceptron\n",
      "f1 scores: [0.5112359550561798, 0.6642066420664207, 0.6457925636007827, 0.8346456692913387, 0.23188405797101452]\n",
      "MEAN: 0.5775529775971473\n",
      "\n",
      "MODEL: SGDClassifier\n",
      "f1 score (macro): 0.7287378214050253\n",
      "f1 score (micro): 0.8015122873345936\n",
      "f1 score (weighted): 0.8230259068247213\n",
      "CROSS VALIDATION FOR: SGDClassifier\n",
      "f1 scores: [0.8298368298368298, 0.8033707865168539, 0.1134020618556701, 0.829971181556196, 0.4085106382978723]\n",
      "MEAN: 0.5970182996126845\n",
      "\n",
      "MODEL: Decision Tree\n",
      "f1 score (macro): 0.8660840214574167\n",
      "f1 score (micro): 0.8809073724007561\n",
      "f1 score (weighted): 0.8801493601366082\n",
      "CROSS VALIDATION FOR: Decision Tree\n",
      "f1 scores: [0.9675675675675677, 0.8352941176470587, 0.6964980544747081, 0.7267267267267267, 0.5897435897435898]\n",
      "MEAN: 0.7631660112319303\n",
      "\n"
     ]
    }
   ],
   "source": [
    "from sklearn.linear_model import LogisticRegression\n",
    "from sklearn.svm import SVC, LinearSVC\n",
    "from sklearn.ensemble import RandomForestClassifier\n",
    "from sklearn.neighbors import KNeighborsClassifier\n",
    "from sklearn.naive_bayes import GaussianNB\n",
    "from sklearn.linear_model import Perceptron\n",
    "from sklearn.linear_model import SGDClassifier\n",
    "from sklearn.tree import DecisionTreeClassifier\n",
    "\n",
    "models = {\n",
    "    \"Logistic Regression\": LogisticRegression(),\n",
    "    \"SVC\": SVC(),\n",
    "    \"Random Forest\": RandomForestClassifier(n_estimators=1000),\n",
    "    \"K-Nearest Neighbors\": KNeighborsClassifier(n_neighbors = 3),\n",
    "    \"GaussianNB\": GaussianNB(),\n",
    "    \"Perceptron\": Perceptron(),\n",
    "    \"SGDClassifier\": SGDClassifier(),\n",
    "    \"Decision Tree\": DecisionTreeClassifier()   \n",
    "}\n",
    "\n",
    "dataset_path = \"data.csv\"\n",
    "data = pd.read_csv(dataset_path, sep=\";\")\n",
    "X = data.drop(\"diagnosis\", axis=1).values\n",
    "y = data[\"diagnosis\"]\n",
    "\n",
    "for model in models:\n",
    "    test_model(X, y, model, models[model])\n",
    "    testModelKFold(X, y, model, models[model], k=5)\n",
    "    print('')"
   ]
  },
  {
   "cell_type": "markdown",
   "metadata": {},
   "source": [
    "We can check the confusion matrix for the Random Forest model."
   ]
  },
  {
   "cell_type": "code",
   "execution_count": 26,
   "metadata": {},
   "outputs": [
    {
     "name": "stdout",
     "output_type": "stream",
     "text": [
      "Confusion Matrix\n",
      "[[319  32]\n",
      " [ 25 153]]\n",
      "\n",
      "Classfication Report\n",
      "             precision    recall  f1-score   support\n",
      "\n",
      "          0       0.93      0.91      0.92       351\n",
      "          1       0.83      0.86      0.84       178\n",
      "\n",
      "avg / total       0.89      0.89      0.89       529\n",
      "\n"
     ]
    }
   ],
   "source": [
    "from sklearn.metrics import confusion_matrix\n",
    "from sklearn.metrics import classification_report\n",
    "\n",
    "model = RandomForestClassifier(n_estimators=1000)\n",
    "X_train, X_test, y_train, y_test = train_test_split(X, y, test_size=0.2)\n",
    "model.fit(X_train, y_train)\n",
    "Z = model.predict(X_test)\n",
    "\n",
    "print(\"Confusion Matrix\")\n",
    "print(confusion_matrix(y_test, Z))\n",
    "\n",
    "print(\"\\nClassfication Report\")\n",
    "print(classification_report(y_test, Z))"
   ]
  },
  {
   "cell_type": "code",
   "execution_count": null,
   "metadata": {
    "collapsed": true
   },
   "outputs": [],
   "source": []
  }
 ],
 "metadata": {
  "kernelspec": {
   "display_name": "Python 3",
   "language": "python",
   "name": "python3"
  },
  "language_info": {
   "codemirror_mode": {
    "name": "ipython",
    "version": 3
   },
   "file_extension": ".py",
   "mimetype": "text/x-python",
   "name": "python",
   "nbconvert_exporter": "python",
   "pygments_lexer": "ipython3",
   "version": "3.6.1"
  }
 },
 "nbformat": 4,
 "nbformat_minor": 2
}

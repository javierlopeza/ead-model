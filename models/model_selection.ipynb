{
 "cells": [
  {
   "cell_type": "markdown",
   "metadata": {},
   "source": [
    "# Model Selection\n",
    "\n",
    "In this notebook we will test different models to find the one that gives us the best results."
   ]
  },
  {
   "cell_type": "code",
   "execution_count": 1,
   "metadata": {
    "collapsed": true
   },
   "outputs": [],
   "source": [
    "import numpy as np\n",
    "import pandas as pd\n",
    "\n",
    "import warnings\n",
    "warnings.filterwarnings('ignore')"
   ]
  },
  {
   "cell_type": "code",
   "execution_count": 2,
   "metadata": {
    "collapsed": true
   },
   "outputs": [],
   "source": [
    "from sklearn.model_selection import train_test_split\n",
    "from sklearn.metrics import f1_score\n",
    "from sklearn.model_selection import StratifiedKFold\n",
    "\n",
    "def f1_scores(Z, y_test):\n",
    "    averages = ['macro', 'micro', 'weighted']\n",
    "    for avg in averages:\n",
    "        score = f1_score(Z, y_test, average=avg)\n",
    "        print(\"f1 score ({}): {}\".format(avg, score))\n",
    "\n",
    "def test_model(X, y, model_name, model):\n",
    "    print(\"MODEL: {}\".format(model_name))\n",
    "    X_train, X_test, y_train, y_test = train_test_split(X, y, test_size=0.2)\n",
    "    model.fit(X_train, y_train)\n",
    "    Z = model.predict(X_test)\n",
    "    f1_scores(Z, y_test)\n",
    "    \n",
    "def testModelKFold(X, y, model_name, model, k):\n",
    "    print(\"CROSS VALIDATION FOR: {}\".format(model_name))\n",
    "    skf = StratifiedKFold(n_splits=5)\n",
    "    skf.get_n_splits(X, y)\n",
    "    f1_scores = []\n",
    "    for train_index, test_index in skf.split(X, y):\n",
    "        X_train, X_test = X[train_index], X[test_index]\n",
    "        y_train, y_test = y[train_index], y[test_index]\n",
    "        model.fit(X_train, y_train)\n",
    "        Z = model.predict(X_test)\n",
    "        f1_scores.append(f1_score(Z, y_test))\n",
    "    print(\"f1 scores: {}\".format(f1_scores))\n",
    "    print(\"MEAN: {}\".format(np.mean(f1_scores)))"
   ]
  },
  {
   "cell_type": "code",
   "execution_count": 3,
   "metadata": {},
   "outputs": [
    {
     "name": "stdout",
     "output_type": "stream",
     "text": [
      "MODEL: Logistic Regression\n",
      "f1 score (macro): 0.8148019900852963\n",
      "f1 score (micro): 0.8531889290012034\n",
      "f1 score (weighted): 0.8554887632270022\n",
      "CROSS VALIDATION FOR: Logistic Regression\n",
      "f1 scores: [0.8992805755395683, 0.8727755644090306, 0.8852734922861151, 0.9055429864253393, 0.8699576868829337]\n",
      "MEAN: 0.8865660611085975\n",
      "\n",
      "MODEL: SVC\n",
      "f1 score (macro): 0.8371379904226619\n",
      "f1 score (micro): 0.8752507019655034\n",
      "f1 score (weighted): 0.8820452566767064\n",
      "CROSS VALIDATION FOR: SVC\n",
      "f1 scores: [0.9262013729977117, 0.8781127129750982, 0.8931193908077236, 0.8995002776235425, 0.8878706199460916]\n",
      "MEAN: 0.8969608748700335\n",
      "\n",
      "MODEL: Random Forest\n",
      "f1 score (macro): 0.838970112844251\n",
      "f1 score (micro): 0.8712394705174489\n",
      "f1 score (weighted): 0.8747382091182168\n",
      "CROSS VALIDATION FOR: Random Forest\n",
      "f1 scores: [0.906074074074074, 0.8914410719168717, 0.8905150576977202, 0.8728686808256058, 0.873247335950645]\n",
      "MEAN: 0.8868292440929834\n",
      "\n",
      "MODEL: K-Nearest Neighbors\n",
      "f1 score (macro): 0.7955462302245527\n",
      "f1 score (micro): 0.8311271560369033\n",
      "f1 score (weighted): 0.8320508916108778\n",
      "CROSS VALIDATION FOR: K-Nearest Neighbors\n",
      "f1 scores: [0.8787240445380681, 0.8649986252405828, 0.8632969557725445, 0.8332829046898639, 0.8633380884450785]\n",
      "MEAN: 0.8607281237372275\n",
      "\n",
      "MODEL: GaussianNB\n",
      "f1 score (macro): 0.753090725884587\n",
      "f1 score (micro): 0.7785800240673887\n",
      "f1 score (weighted): 0.7748886899984685\n",
      "CROSS VALIDATION FOR: GaussianNB\n",
      "f1 scores: [0.7836456558773426, 0.8263020075647367, 0.8897615708274894, 0.9008595988538681, 0.7905236907730673]\n",
      "MEAN: 0.8382185047793008\n",
      "\n",
      "MODEL: Perceptron\n",
      "f1 score (macro): 0.43857216797028165\n",
      "f1 score (micro): 0.6947452868030486\n",
      "f1 score (weighted): 0.8105099800522978\n",
      "CROSS VALIDATION FOR: Perceptron\n",
      "f1 scores: [0.8154138915318744, 0.817445185891325, 0.8450357230845036, 0.8806907378335951, 0.8754134509371554]\n",
      "MEAN: 0.8467997978556907\n",
      "\n",
      "MODEL: SGDClassifier\n",
      "f1 score (macro): 0.6914353085728224\n",
      "f1 score (micro): 0.7801845166466105\n",
      "f1 score (weighted): 0.8115155758918071\n",
      "CROSS VALIDATION FOR: SGDClassifier\n",
      "f1 scores: [0.9035682689472131, 0.8617463617463617, 0.8887649846668525, 0.9006227998916869, 0.0]\n",
      "MEAN: 0.7109404830504229\n",
      "\n",
      "MODEL: Decision Tree\n",
      "f1 score (macro): 0.8215341292364007\n",
      "f1 score (micro): 0.8463698355395106\n",
      "f1 score (weighted): 0.8469306418108712\n",
      "CROSS VALIDATION FOR: Decision Tree\n",
      "f1 scores: [0.8779743746186699, 0.8628571428571428, 0.8573099415204679, 0.8295133437990581, 0.8408425980105324]\n",
      "MEAN: 0.8536994801611743\n",
      "\n"
     ]
    }
   ],
   "source": [
    "from sklearn.linear_model import LogisticRegression\n",
    "from sklearn.svm import SVC, LinearSVC\n",
    "from sklearn.ensemble import RandomForestClassifier\n",
    "from sklearn.neighbors import KNeighborsClassifier\n",
    "from sklearn.naive_bayes import GaussianNB\n",
    "from sklearn.linear_model import Perceptron\n",
    "from sklearn.linear_model import SGDClassifier\n",
    "from sklearn.tree import DecisionTreeClassifier\n",
    "\n",
    "models = {\n",
    "    \"Logistic Regression\": LogisticRegression(),\n",
    "    \"SVC\": SVC(),\n",
    "    \"Random Forest\": RandomForestClassifier(n_estimators=1000),\n",
    "    \"K-Nearest Neighbors\": KNeighborsClassifier(n_neighbors = 3),\n",
    "    \"GaussianNB\": GaussianNB(),\n",
    "    \"Perceptron\": Perceptron(),\n",
    "    \"SGDClassifier\": SGDClassifier(),\n",
    "    \"Decision Tree\": DecisionTreeClassifier()   \n",
    "}\n",
    "\n",
    "dataset_path = \"data-all.csv\"\n",
    "data = pd.read_csv(dataset_path, sep=\";\")\n",
    "X = data.drop(\"diagnosis\", axis=1).values\n",
    "y = data[\"diagnosis\"]\n",
    "\n",
    "for model in models:\n",
    "    test_model(X, y, model, models[model])\n",
    "    testModelKFold(X, y, model, models[model], k=5)\n",
    "    print('')"
   ]
  },
  {
   "cell_type": "markdown",
   "metadata": {},
   "source": [
    "We can check the confusion matrix for the Random Forest model."
   ]
  },
  {
   "cell_type": "code",
   "execution_count": 9,
   "metadata": {},
   "outputs": [
    {
     "name": "stdout",
     "output_type": "stream",
     "text": [
      "Confusion Matrix\n",
      "[[ 547  221]\n",
      " [ 109 1616]]\n",
      "\n",
      "Classfication Report\n",
      "             precision    recall  f1-score   support\n",
      "\n",
      "        0.0       0.83      0.71      0.77       768\n",
      "        1.0       0.88      0.94      0.91      1725\n",
      "\n",
      "avg / total       0.87      0.87      0.86      2493\n",
      "\n"
     ]
    }
   ],
   "source": [
    "from sklearn.metrics import confusion_matrix\n",
    "from sklearn.metrics import classification_report\n",
    "\n",
    "model = RandomForestClassifier(n_estimators=1000)\n",
    "X_train, X_test, y_train, y_test = train_test_split(X, y, test_size=0.2)\n",
    "model.fit(X_train, y_train)\n",
    "Z = model.predict(X_test)\n",
    "\n",
    "print(\"Confusion Matrix\")\n",
    "print(confusion_matrix(y_test, Z))\n",
    "\n",
    "print(\"\\nClassfication Report\")\n",
    "print(classification_report(y_test, Z))"
   ]
  },
  {
   "cell_type": "markdown",
   "metadata": {},
   "source": [
    "## Save model"
   ]
  },
  {
   "cell_type": "code",
   "execution_count": 10,
   "metadata": {},
   "outputs": [],
   "source": [
    "import dill as pickle\n",
    "\n",
    "def dump_model(model, path):\n",
    "    with open(path, 'wb') as file:\n",
    "        pickle.dump(model, file)\n",
    "        \n",
    "# Define path to save the model file\n",
    "filename = \"model_v2.pk\"\n",
    "dir_path = \"./\"\n",
    "\n",
    "# Dump model to file\n",
    "dump_model(model, dir_path + filename)"
   ]
  },
  {
   "cell_type": "code",
   "execution_count": null,
   "metadata": {},
   "outputs": [],
   "source": []
  }
 ],
 "metadata": {
  "kernelspec": {
   "display_name": "Python 3",
   "language": "python",
   "name": "python3"
  },
  "language_info": {
   "codemirror_mode": {
    "name": "ipython",
    "version": 3
   },
   "file_extension": ".py",
   "mimetype": "text/x-python",
   "name": "python",
   "nbconvert_exporter": "python",
   "pygments_lexer": "ipython3",
   "version": "3.6.4"
  }
 },
 "nbformat": 4,
 "nbformat_minor": 2
}

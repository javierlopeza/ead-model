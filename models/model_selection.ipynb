{
 "cells": [
  {
   "cell_type": "markdown",
   "metadata": {},
   "source": [
    "# Model Selection\n",
    "\n",
    "In this notebook we will test different models to find the one that gives us the best results."
   ]
  },
  {
   "cell_type": "code",
   "execution_count": 2,
   "metadata": {
    "collapsed": true
   },
   "outputs": [],
   "source": [
    "import numpy as np\n",
    "import pandas as pd\n",
    "\n",
    "import warnings\n",
    "warnings.filterwarnings('ignore')"
   ]
  },
  {
   "cell_type": "code",
   "execution_count": 3,
   "metadata": {
    "collapsed": true
   },
   "outputs": [],
   "source": [
    "from sklearn.model_selection import train_test_split\n",
    "from sklearn.metrics import f1_score\n",
    "from sklearn.model_selection import StratifiedKFold\n",
    "\n",
    "def f1_scores(Z, y_test):\n",
    "    averages = ['macro', 'micro', 'weighted']\n",
    "    for avg in averages:\n",
    "        score = f1_score(Z, y_test, average=avg)\n",
    "        print(\"f1 score ({}): {}\".format(avg, score))\n",
    "\n",
    "def test_model(X, y, model_name, model):\n",
    "    print(\"MODEL: {}\".format(model_name))\n",
    "    X_train, X_test, y_train, y_test = train_test_split(X, y, test_size=0.2)\n",
    "    model.fit(X_train, y_train)\n",
    "    Z = model.predict(X_test)\n",
    "    f1_scores(Z, y_test)\n",
    "    \n",
    "def testModelKFold(X, y, model_name, model, k):\n",
    "    print(\"CROSS VALIDATION FOR: {}\".format(model_name))\n",
    "    skf = StratifiedKFold(n_splits=5)\n",
    "    skf.get_n_splits(X, y)\n",
    "    f1_scores = []\n",
    "    for train_index, test_index in skf.split(X, y):\n",
    "        X_train, X_test = X[train_index], X[test_index]\n",
    "        y_train, y_test = y[train_index], y[test_index]\n",
    "        model.fit(X_train, y_train)\n",
    "        Z = model.predict(X_test)\n",
    "        f1_scores.append(f1_score(Z, y_test))\n",
    "    print(\"f1 scores: {}\".format(f1_scores))\n",
    "    print(\"MEAN: {}\".format(np.mean(f1_scores)))"
   ]
  },
  {
   "cell_type": "code",
   "execution_count": 4,
   "metadata": {},
   "outputs": [
    {
     "name": "stdout",
     "output_type": "stream",
     "text": [
      "MODEL: Logistic Regression\n",
      "f1 score (macro): 0.7766676048409795\n",
      "f1 score (micro): 0.7958412098298676\n",
      "f1 score (weighted): 0.7950990057657817\n",
      "CROSS VALIDATION FOR: Logistic Regression\n",
      "f1 scores: [0.8554913294797688, 0.8082595870206489, 0.5481727574750831, 0.7988668555240793, 0.4453441295546559]\n",
      "MEAN: 0.6912269318108473\n",
      "\n",
      "MODEL: SVC\n",
      "f1 score (macro): 0.8477229620224214\n",
      "f1 score (micro): 0.8620037807183365\n",
      "f1 score (weighted): 0.8635023851493893\n",
      "CROSS VALIDATION FOR: SVC\n",
      "f1 scores: [0.8913043478260869, 0.8385269121813033, 0.7223382045929019, 0.8825214899713467, 0.5522388059701493]\n",
      "MEAN: 0.7773859521083576\n",
      "\n",
      "MODEL: Random Forest\n",
      "f1 score (macro): 0.8732767680514343\n",
      "f1 score (micro): 0.8827977315689982\n",
      "f1 score (weighted): 0.8830603788384482\n",
      "CROSS VALIDATION FOR: Random Forest\n",
      "f1 scores: [0.9703504043126684, 0.8538011695906433, 0.7098039215686275, 0.8587570621468926, 0.5413533834586466]\n",
      "MEAN: 0.7868131882154957\n",
      "\n",
      "MODEL: K-Nearest Neighbors\n",
      "f1 score (macro): 0.8063196434256605\n",
      "f1 score (micro): 0.8260869565217391\n",
      "f1 score (weighted): 0.8256190911230153\n",
      "CROSS VALIDATION FOR: K-Nearest Neighbors\n",
      "f1 scores: [0.8938547486033518, 0.8047337278106509, 0.6666666666666666, 0.82183908045977, 0.512280701754386]\n",
      "MEAN: 0.7398749850589651\n",
      "\n",
      "MODEL: GaussianNB\n",
      "f1 score (macro): 0.761057781725291\n",
      "f1 score (micro): 0.775047258979206\n",
      "f1 score (weighted): 0.770347668964219\n",
      "CROSS VALIDATION FOR: GaussianNB\n",
      "f1 scores: [0.8969359331476322, 0.8238805970149253, 0.5551948051948052, 0.7554347826086956, 0.4745762711864407]\n",
      "MEAN: 0.7012044778304998\n",
      "\n",
      "MODEL: Perceptron\n",
      "f1 score (macro): 0.4085907619888203\n",
      "f1 score (micro): 0.42533081285444235\n",
      "f1 score (weighted): 0.48251031244038756\n",
      "CROSS VALIDATION FOR: Perceptron\n",
      "f1 scores: [0.5112359550561798, 0.6642066420664207, 0.6457925636007827, 0.8346456692913387, 0.23188405797101452]\n",
      "MEAN: 0.5775529775971473\n",
      "\n",
      "MODEL: SGDClassifier\n",
      "f1 score (macro): 0.6795476214305656\n",
      "f1 score (micro): 0.782608695652174\n",
      "f1 score (weighted): 0.8138705548327285\n",
      "CROSS VALIDATION FOR: SGDClassifier\n",
      "f1 scores: [0.187192118226601, 0.6593406593406593, 0.5625, 0.8238341968911918, 0.29767441860465116]\n",
      "MEAN: 0.5061082786126206\n",
      "\n",
      "MODEL: Decision Tree\n",
      "f1 score (macro): 0.8525047244338424\n",
      "f1 score (micro): 0.8638941398865785\n",
      "f1 score (weighted): 0.8628094336529845\n",
      "CROSS VALIDATION FOR: Decision Tree\n",
      "f1 scores: [0.9675675675675677, 0.846376811594203, 0.6978557504873295, 0.7477744807121661, 0.5847176079734219]\n",
      "MEAN: 0.7688584436669377\n",
      "\n"
     ]
    }
   ],
   "source": [
    "from sklearn.linear_model import LogisticRegression\n",
    "from sklearn.svm import SVC, LinearSVC\n",
    "from sklearn.ensemble import RandomForestClassifier\n",
    "from sklearn.neighbors import KNeighborsClassifier\n",
    "from sklearn.naive_bayes import GaussianNB\n",
    "from sklearn.linear_model import Perceptron\n",
    "from sklearn.linear_model import SGDClassifier\n",
    "from sklearn.tree import DecisionTreeClassifier\n",
    "\n",
    "models = {\n",
    "    \"Logistic Regression\": LogisticRegression(),\n",
    "    \"SVC\": SVC(),\n",
    "    \"Random Forest\": RandomForestClassifier(n_estimators=1000),\n",
    "    \"K-Nearest Neighbors\": KNeighborsClassifier(n_neighbors = 3),\n",
    "    \"GaussianNB\": GaussianNB(),\n",
    "    \"Perceptron\": Perceptron(),\n",
    "    \"SGDClassifier\": SGDClassifier(),\n",
    "    \"Decision Tree\": DecisionTreeClassifier()   \n",
    "}\n",
    "\n",
    "dataset_path = \"data.csv\"\n",
    "data = pd.read_csv(dataset_path, sep=\";\")\n",
    "X = data.drop(\"diagnosis\", axis=1).values\n",
    "y = data[\"diagnosis\"]\n",
    "\n",
    "for model in models:\n",
    "    test_model(X, y, model, models[model])\n",
    "    testModelKFold(X, y, model, models[model], k=5)\n",
    "    print('')"
   ]
  },
  {
   "cell_type": "markdown",
   "metadata": {},
   "source": [
    "We can check the confusion matrix for the Random Forest model."
   ]
  },
  {
   "cell_type": "code",
   "execution_count": 5,
   "metadata": {},
   "outputs": [
    {
     "name": "stdout",
     "output_type": "stream",
     "text": [
      "Confusion Matrix\n",
      "[[320  32]\n",
      " [ 32 145]]\n",
      "\n",
      "Classfication Report\n",
      "             precision    recall  f1-score   support\n",
      "\n",
      "          0       0.91      0.91      0.91       352\n",
      "          1       0.82      0.82      0.82       177\n",
      "\n",
      "avg / total       0.88      0.88      0.88       529\n",
      "\n"
     ]
    }
   ],
   "source": [
    "from sklearn.metrics import confusion_matrix\n",
    "from sklearn.metrics import classification_report\n",
    "\n",
    "model = RandomForestClassifier(n_estimators=1000)\n",
    "X_train, X_test, y_train, y_test = train_test_split(X, y, test_size=0.2)\n",
    "model.fit(X_train, y_train)\n",
    "Z = model.predict(X_test)\n",
    "\n",
    "print(\"Confusion Matrix\")\n",
    "print(confusion_matrix(y_test, Z))\n",
    "\n",
    "print(\"\\nClassfication Report\")\n",
    "print(classification_report(y_test, Z))"
   ]
  },
  {
   "cell_type": "markdown",
   "metadata": {},
   "source": [
    "## Save model"
   ]
  },
  {
   "cell_type": "code",
   "execution_count": 10,
   "metadata": {},
   "outputs": [],
   "source": [
    "import dill as pickle\n",
    "\n",
    "def dump_model(model, path):\n",
    "    with open(path, 'wb') as file:\n",
    "        pickle.dump(model, file)\n",
    "        \n",
    "# Define path to save the model file\n",
    "filename = \"model_v1.pk\"\n",
    "dir_path = \"./\"\n",
    "\n",
    "# Dump model to file\n",
    "dump_model(model, dir_path + filename)"
   ]
  }
 ],
 "metadata": {
  "kernelspec": {
   "display_name": "Python 3",
   "language": "python",
   "name": "python3"
  },
  "language_info": {
   "codemirror_mode": {
    "name": "ipython",
    "version": 3
   },
   "file_extension": ".py",
   "mimetype": "text/x-python",
   "name": "python",
   "nbconvert_exporter": "python",
   "pygments_lexer": "ipython3",
   "version": "3.6.4"
  }
 },
 "nbformat": 4,
 "nbformat_minor": 2
}

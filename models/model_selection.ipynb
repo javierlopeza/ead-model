{
 "cells": [
  {
   "cell_type": "markdown",
   "metadata": {},
   "source": [
    "# Model Selection\n",
    "\n",
    "In this notebook we will test different models to find the one that gives us the best results."
   ]
  },
  {
   "cell_type": "code",
   "execution_count": 7,
   "metadata": {},
   "outputs": [],
   "source": [
    "import numpy as np\n",
    "import pandas as pd\n",
    "\n",
    "import warnings\n",
    "warnings.filterwarnings('ignore')"
   ]
  },
  {
   "cell_type": "code",
   "execution_count": 8,
   "metadata": {},
   "outputs": [],
   "source": [
    "from sklearn.model_selection import train_test_split\n",
    "from sklearn.metrics import f1_score\n",
    "\n",
    "def f1_scores(Z, y_test):\n",
    "    averages = ['macro', 'micro', 'weighted']\n",
    "    for avg in averages:\n",
    "        score = f1_score(Z, y_test, average=avg)\n",
    "        print(\"f1 score ({}): {}\".format(avg, score))\n",
    "\n",
    "def test_model(X, y, model_name, model):\n",
    "    print(\"MODEL: {}\".format(model_name))\n",
    "    X_train, X_test, y_train, y_test = train_test_split(X, y, test_size=0.2)\n",
    "    model.fit(X_train, y_train)\n",
    "    Z = model.predict(X_test)\n",
    "    f1_scores(Z, y_test)"
   ]
  },
  {
   "cell_type": "code",
   "execution_count": 23,
   "metadata": {},
   "outputs": [
    {
     "name": "stdout",
     "output_type": "stream",
     "text": [
      "MODEL: Logistic Regression\n",
      "f1 score (macro): 0.7877711432321793\n",
      "f1 score (micro): 0.8052930056710775\n",
      "f1 score (weighted): 0.8056388319034243\n",
      "\n",
      "MODEL: SVC\n",
      "f1 score (macro): 0.8617902270640023\n",
      "f1 score (micro): 0.8752362948960303\n",
      "f1 score (weighted): 0.8749103296152537\n",
      "\n",
      "MODEL: Random Forest\n",
      "f1 score (macro): 0.881720430107527\n",
      "f1 score (micro): 0.8960302457466919\n",
      "f1 score (weighted): 0.8961080164838613\n",
      "\n",
      "MODEL: K-Nearest Neighbors\n",
      "f1 score (macro): 0.8192956534980678\n",
      "f1 score (micro): 0.8431001890359168\n",
      "f1 score (weighted): 0.8461997379340743\n",
      "\n",
      "MODEL: GaussianNB\n",
      "f1 score (macro): 0.7548035538313527\n",
      "f1 score (micro): 0.775047258979206\n",
      "f1 score (weighted): 0.7706522440457904\n",
      "\n",
      "MODEL: Perceptron\n",
      "f1 score (macro): 0.8084197141385527\n",
      "f1 score (micro): 0.8298676748582231\n",
      "f1 score (weighted): 0.8330182227605476\n",
      "\n",
      "MODEL: SGDClassifier\n",
      "f1 score (macro): 0.7320162107396151\n",
      "f1 score (micro): 0.7353497164461249\n",
      "f1 score (weighted): 0.7281177040659003\n",
      "\n",
      "MODEL: Decision Tree\n",
      "f1 score (macro): 0.854145937975761\n",
      "f1 score (micro): 0.8695652173913043\n",
      "f1 score (weighted): 0.8694755704179581\n",
      "\n"
     ]
    }
   ],
   "source": [
    "from sklearn.linear_model import LogisticRegression\n",
    "from sklearn.svm import SVC, LinearSVC\n",
    "from sklearn.ensemble import RandomForestClassifier\n",
    "from sklearn.neighbors import KNeighborsClassifier\n",
    "from sklearn.naive_bayes import GaussianNB\n",
    "from sklearn.linear_model import Perceptron\n",
    "from sklearn.linear_model import SGDClassifier\n",
    "from sklearn.tree import DecisionTreeClassifier\n",
    "\n",
    "models = {\n",
    "    \"Logistic Regression\": LogisticRegression(),\n",
    "    \"SVC\": SVC(),\n",
    "    \"Random Forest\": RandomForestClassifier(n_estimators=1000),\n",
    "    \"K-Nearest Neighbors\": KNeighborsClassifier(n_neighbors = 3),\n",
    "    \"GaussianNB\": GaussianNB(),\n",
    "    \"Perceptron\": Perceptron(),\n",
    "    \"SGDClassifier\": SGDClassifier(),\n",
    "    \"Decision Tree\": DecisionTreeClassifier()   \n",
    "}\n",
    "\n",
    "dataset_path = \"data.csv\"\n",
    "data = pd.read_csv(dataset_path, sep=\";\")\n",
    "X = data.drop(\"diagnosis\", axis=1).values\n",
    "y = data[\"diagnosis\"]\n",
    "\n",
    "for model in models:\n",
    "    test_model(X, y, model, models[model])\n",
    "    print()"
   ]
  },
  {
   "cell_type": "markdown",
   "metadata": {},
   "source": [
    "We can check the confusion matrix for the Random Forest model."
   ]
  },
  {
   "cell_type": "code",
   "execution_count": 26,
   "metadata": {},
   "outputs": [
    {
     "name": "stdout",
     "output_type": "stream",
     "text": [
      "Confusion Matrix\n",
      "[[319  32]\n",
      " [ 25 153]]\n",
      "\n",
      "Classfication Report\n",
      "             precision    recall  f1-score   support\n",
      "\n",
      "          0       0.93      0.91      0.92       351\n",
      "          1       0.83      0.86      0.84       178\n",
      "\n",
      "avg / total       0.89      0.89      0.89       529\n",
      "\n"
     ]
    }
   ],
   "source": [
    "from sklearn.metrics import confusion_matrix\n",
    "from sklearn.metrics import classification_report\n",
    "\n",
    "model = RandomForestClassifier(n_estimators=1000)\n",
    "X_train, X_test, y_train, y_test = train_test_split(X, y, test_size=0.2)\n",
    "model.fit(X_train, y_train)\n",
    "Z = model.predict(X_test)\n",
    "\n",
    "print(\"Confusion Matrix\")\n",
    "print(confusion_matrix(y_test, Z))\n",
    "\n",
    "print(\"\\nClassfication Report\")\n",
    "print(classification_report(y_test, Z))"
   ]
  },
  {
   "cell_type": "code",
   "execution_count": null,
   "metadata": {},
   "outputs": [],
   "source": []
  }
 ],
 "metadata": {
  "kernelspec": {
   "display_name": "Python 3",
   "language": "python",
   "name": "python3"
  },
  "language_info": {
   "codemirror_mode": {
    "name": "ipython",
    "version": 3
   },
   "file_extension": ".py",
   "mimetype": "text/x-python",
   "name": "python",
   "nbconvert_exporter": "python",
   "pygments_lexer": "ipython3",
   "version": "3.6.4"
  }
 },
 "nbformat": 4,
 "nbformat_minor": 2
}
